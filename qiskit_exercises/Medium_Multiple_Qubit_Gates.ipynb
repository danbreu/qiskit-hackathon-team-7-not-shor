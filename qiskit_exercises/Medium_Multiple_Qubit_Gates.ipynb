{
 "cells": [
  {
   "cell_type": "code",
   "execution_count": 1,
   "id": "42bea388",
   "metadata": {},
   "outputs": [
    {
     "name": "stderr",
     "output_type": "stream",
     "text": [
      "<frozen importlib._bootstrap>:219: RuntimeWarning: scipy._lib.messagestream.MessageStream size changed, may indicate binary incompatibility. Expected 56 from C header, got 64 from PyObject\n"
     ]
    }
   ],
   "source": [
    "import numpy as np\n",
    "from qiskit_textbook.tools import random_state\n",
    "# Importing standard Qiskit libraries\n",
    "from qiskit import QuantumCircuit,QuantumRegister, ClassicalRegister, transpile, Aer, IBMQ, assemble, execute\n",
    "from qiskit.tools.jupyter import *\n",
    "from qiskit.visualization import *\n",
    "from ibm_quantum_widgets import *\n",
    "from qiskit_textbook.tools import random_state\n",
    "from qiskit.extensions import Initialize\n",
    "from qiskit.providers.aer.noise import NoiseModel\n",
    "import qiskit.quantum_info as qi\n",
    "\n",
    "# Loading your IBM Quantum account(s)\n",
    "provider = IBMQ.load_account()"
   ]
  },
  {
   "cell_type": "markdown",
   "id": "4658d413",
   "metadata": {},
   "source": [
    "## Multi-Qubit Gates: Teleportation Protocol"
   ]
  },
  {
   "cell_type": "markdown",
   "id": "15e8bd11",
   "metadata": {},
   "source": [
    "In these exercises we will build a so called '<i> Bell Measurement </i>'. This means that we project a state onto the four Bell states:\n",
    "\n",
    "$$\n",
    "|\\psi^{00}\\rangle=\\frac{1}{2}(|00\\rangle + |11\\rangle)\n",
    "$$\n",
    "\n",
    "$$\n",
    "|\\psi^{01}\\rangle=\\frac{1}{2}(|00\\rangle - |11\\rangle)\n",
    "$$\n",
    "\n",
    "$$\n",
    "|\\psi^{10}\\rangle=\\frac{1}{2}(|10\\rangle + |01\\rangle)\n",
    "$$\n",
    "\n",
    "$$\n",
    "|\\psi^{11}\\rangle=\\frac{1}{2}(|10\\rangle - |01\\rangle)\n",
    "$$\n",
    "\n",
    "We start with the situation where we consdir the usual suspects Alice and Bob. Bob wants to send his quantum state $\\phi$ to Alice. The problem however is that Alice and Bob only share a classical channel (e.g. a phone) and a Bell state. (take $|\\psi^{00}\\rangle=\\frac{1}{2}\\big(|00\\rangle + |11\\rangle\\big)$  )\n",
    "\n",
    "In the coming exercise we will consider how Bob can send his state to alice with the use of multi-qubit gates."
   ]
  },
  {
   "cell_type": "markdown",
   "id": "55fc5a38",
   "metadata": {},
   "source": [
    "For the coming exercise we consider $q_0$ to be Alice's qubit, which is entangled with  $q_1$  on Bob's side. The state we want to teleport is encoded on $q_2$ . "
   ]
  },
  {
   "cell_type": "code",
   "execution_count": 2,
   "id": "d7b3b83d",
   "metadata": {},
   "outputs": [],
   "source": [
    "qr = QuantumRegister(3, name=\"q\")    # Protocol uses 3 qubits\n",
    "crz = ClassicalRegister(1, name=\"crz\") # and 2 classical bits\n",
    "crx = ClassicalRegister(1, name=\"crx\") # in 2 different register\n",
    "teleportation_circuit = QuantumCircuit(qr, crz, crx)\n"
   ]
  },
  {
   "cell_type": "markdown",
   "id": "881a8f51",
   "metadata": {},
   "source": [
    "<b>1.) Produce the Bell state: $|\\psi^{00}\\rangle$ between qubit $q_0$ and $q_1$."
   ]
  },
  {
   "cell_type": "code",
   "execution_count": 3,
   "id": "06a81d94",
   "metadata": {},
   "outputs": [],
   "source": [
    "def psi_00(circuit, q1, q2):\n",
    "    circuit.h(q1)\n",
    "    circuit.cx(q1, q2)\n",
    "    \n",
    "\n",
    "\n"
   ]
  },
  {
   "cell_type": "markdown",
   "id": "a8ddea99",
   "metadata": {},
   "source": [
    "<b>2.) Read out $q_1$ and $q_2$ in the Bell basis.</b> (This means that we want to obtain $xz$ from $|\\psi^{xz}\\rangle$ ). Store the outcomes in the classical registers $z \\rightarrow$ `crz` and $x \\rightarrow$`crx`."
   ]
  },
  {
   "cell_type": "code",
   "execution_count": 4,
   "id": "e9d5dd90",
   "metadata": {},
   "outputs": [],
   "source": [
    "def Bell_measurement(circuit, q1, q2,crx, crz):\n",
    "    circuit.cx(q1, q2)\n",
    "    circuit.h(q1)\n",
    "    circuit.measure(q1, crx)\n",
    "    circuit.measure(q2, crz)"
   ]
  },
  {
   "cell_type": "markdown",
   "id": "50074142",
   "metadata": {},
   "source": [
    "<b> 3.) Now Bob sends his found $xz$ to Alice. She, on her turn applies to following conditional gates on here qubit $q_0$: $X^xZ^z$ </b> hint: Make use of the `c_if` gate\n",
    "    "
   ]
  },
  {
   "cell_type": "code",
   "execution_count": 5,
   "id": "4942ef51",
   "metadata": {},
   "outputs": [],
   "source": [
    "def conditional_gates(circuit, q0, crx, crz):\n",
    "    circuit.x(q0).c_if(crx, 1)\n",
    "    circuit.z(q0).c_if(crz, 1)"
   ]
  },
  {
   "cell_type": "markdown",
   "id": "86e74eec",
   "metadata": {},
   "source": [
    "Now we bring the circuit together:"
   ]
  },
  {
   "cell_type": "code",
   "execution_count": 6,
   "id": "af440846",
   "metadata": {},
   "outputs": [
    {
     "data": {
      "image/png": "[encoded data removed]",
      "text/plain": [
       "<Figure size 634.31x325.08 with 1 Axes>"
      ]
     },
     "execution_count": 6,
     "metadata": {},
     "output_type": "execute_result"
    }
   ],
   "source": [
    "qr = QuantumRegister(3, name=\"q\")    # Protocol uses 3 qubits\n",
    "crz, crx = ClassicalRegister(1, name=\"crz\"), ClassicalRegister(1, name=\"crx\") #Classical Registers\n",
    "teleportation_circuit = QuantumCircuit(qr, crz, crx)\n",
    "\n",
    "\n",
    "#STEP 1:  Create the Bell state between q0 and q1\n",
    "psi_00(teleportation_circuit, 0, 1 )\n",
    "\n",
    "#STEP 2: Bell Measurement\n",
    "teleportation_circuit.barrier()\n",
    "Bell_measurement(teleportation_circuit, 1, 2, crx, crz)\n",
    "\n",
    "#STEP 3: Conditional Gates\n",
    "teleportation_circuit.barrier()\n",
    "conditional_gates(teleportation_circuit,0, crx, crz)\n",
    "teleportation_circuit.draw()\n"
   ]
  },
  {
   "cell_type": "code",
   "execution_count": null,
   "id": "70f8482f-4c64-4325-90de-be9df0656066",
   "metadata": {},
   "outputs": [],
   "source": []
  }
 ],
 "metadata": {
  "kernelspec": {
   "display_name": "Qiskit v0.35.0 (ipykernel)",
   "language": "python",
   "name": "python3"
  },
  "language_info": {
   "codemirror_mode": {
    "name": "ipython",
    "version": 3
   },
   "file_extension": ".py",
   "mimetype": "text/x-python",
   "name": "python",
   "nbconvert_exporter": "python",
   "pygments_lexer": "ipython3",
   "version": "3.8.13"
  },
  "widgets": {
   "application/vnd.jupyter.widget-state+json": {
    "state": {
     "00653bf9f594444790d536eb4033444f": {
      "model_module": "@jupyter-widgets/base",
      "model_module_version": "1.2.0",
      "model_name": "LayoutModel",
      "state": {
       "margin": "0px 0px 10px 0px"
      }
     },
     "0646436771c646f6ba26be6e09b29083": {
      "model_module": "@jupyter-widgets/controls",
      "model_module_version": "1.5.0",
      "model_name": "ButtonStyleModel",
      "state": {}
     },
     "09ffe55904bd4fe1a9d9974a398fb55a": {
      "model_module": "@jupyter-widgets/controls",
      "model_module_version": "1.5.0",
      "model_name": "HTMLModel",
      "state": {
       "layout": "IPY_MODEL_8c0a757b81bd4f48a7b644ed71668b12",
       "style": "IPY_MODEL_9952ac3be5e44e2bb128e8bd79620c71",
       "value": "<p style='font-family: IBM Plex Sans, Arial, Helvetica, sans-serif; font-size: 20px; font-weight: medium;'>Circuit Properties</p>"
      }
     },
     "0bfb002ee6b442ae9fe4b4e2e06d05b2": {
      "model_module": "@jupyter-widgets/controls",
      "model_module_version": "1.5.0",
      "model_name": "DescriptionStyleModel",
      "state": {
       "description_width": ""
      }
     },
     "0e5d94de6ca8469f80611b06426730bf": {
      "model_module": "@jupyter-widgets/base",
      "model_module_version": "1.2.0",
      "model_name": "LayoutModel",
      "state": {
       "margin": "0px 0px 0px 37px",
       "width": "600px"
      }
     },
     "1097896a848049469b401dd723dfa91f": {
      "model_module": "@jupyter-widgets/base",
      "model_module_version": "1.2.0",
      "model_name": "LayoutModel",
      "state": {
       "width": "70px"
      }
     },
     "12c9740842a446bca6e3fd2ac5f41140": {
      "model_module": "@jupyter-widgets/controls",
      "model_module_version": "1.5.0",
      "model_name": "DescriptionStyleModel",
      "state": {
       "description_width": ""
      }
     },
     "18077421cbe0401d86acbb6edc0c799d": {
      "model_module": "@jupyter-widgets/base",
      "model_module_version": "1.2.0",
      "model_name": "LayoutModel",
      "state": {
       "width": "70px"
      }
     },
     "1d3c022043de4e848fffb0af24343dd7": {
      "model_module": "@jupyter-widgets/controls",
      "model_module_version": "1.5.0",
      "model_name": "GridBoxModel",
      "state": {
       "children": [
        "IPY_MODEL_cd1897802161477c96622eb591f2ef33"
       ],
       "layout": "IPY_MODEL_c6ed43740fd441a28c2719e81e51d96b"
      }
     },
     "1faf32b7e22e4557ae9c8e4823b1f3cc": {
      "model_module": "@jupyter-widgets/base",
      "model_module_version": "1.2.0",
      "model_name": "LayoutModel",
      "state": {
       "width": "95px"
      }
     },
     "262d579020c442dcbdda47128c233e56": {
      "model_module": "@jupyter-widgets/controls",
      "model_module_version": "1.5.0",
      "model_name": "DescriptionStyleModel",
      "state": {
       "description_width": ""
      }
     },
     "29d8ec54df194847b3089a472279bee2": {
      "model_module": "@jupyter-widgets/controls",
      "model_module_version": "1.5.0",
      "model_name": "HBoxModel",
      "state": {
       "children": [
        "IPY_MODEL_e529e93da2eb4773be6ef246c2722cbc",
        "IPY_MODEL_3fb74f6223ec469a9ad3dc146f14dd8a",
        "IPY_MODEL_76dcdb54bed149f2bde013304f4fcea4",
        "IPY_MODEL_e4cb8d264e9c45918f2b947076d2321b",
        "IPY_MODEL_2ac7c57c33d649afa8687888669320d9"
       ],
       "layout": "IPY_MODEL_837252c1b27544efbb4cf95ed8b8ca11"
      }
     },
     "2ac7c57c33d649afa8687888669320d9": {
      "model_module": "@jupyter-widgets/controls",
      "model_module_version": "1.5.0",
      "model_name": "HTMLModel",
      "state": {
       "layout": "IPY_MODEL_53afe9febae4460ba2bc53c2a6697671",
       "style": "IPY_MODEL_262d579020c442dcbdda47128c233e56",
       "value": "<h5>Message</h5>"
      }
     },
     "3fb74f6223ec469a9ad3dc146f14dd8a": {
      "model_module": "@jupyter-widgets/controls",
      "model_module_version": "1.5.0",
      "model_name": "HTMLModel",
      "state": {
       "layout": "IPY_MODEL_77794ad86768483b800e6638cdc8d6b7",
       "style": "IPY_MODEL_cd7d535701f746e8ab81153956b40e79",
       "value": "<h5>Backend</h5>"
      }
     },
     "414ff468678f4214909a8262888e714e": {
      "model_module": "@jupyter-widgets/controls",
      "model_module_version": "1.5.0",
      "model_name": "ButtonStyleModel",
      "state": {}
     },
     "419d689d602a4433be34bdcdd770f583": {
      "model_module": "@jupyter-widgets/controls",
      "model_module_version": "1.5.0",
      "model_name": "DescriptionStyleModel",
      "state": {
       "description_width": ""
      }
     },
     "46bb339c108f4b84b46978f1ac1e1cfc": {
      "model_module": "@jupyter-widgets/controls",
      "model_module_version": "1.5.0",
      "model_name": "DescriptionStyleModel",
      "state": {
       "description_width": ""
      }
     },
     "47d560de615648219ffc6431639e8e93": {
      "model_module": "@jupyter-widgets/controls",
      "model_module_version": "1.5.0",
      "model_name": "HTMLModel",
      "state": {
       "layout": "IPY_MODEL_1faf32b7e22e4557ae9c8e4823b1f3cc",
       "style": "IPY_MODEL_419d689d602a4433be34bdcdd770f583",
       "value": "<h5>Status</h5>"
      }
     },
     "53afe9febae4460ba2bc53c2a6697671": {
      "model_module": "@jupyter-widgets/base",
      "model_module_version": "1.2.0",
      "model_name": "LayoutModel",
      "state": {}
     },
     "632ab00b4290411c966f17fd3eb52c87": {
      "model_module": "@jupyter-widgets/base",
      "model_module_version": "1.2.0",
      "model_name": "LayoutModel",
      "state": {}
     },
     "7258ab5d6d8f41258e4c37421ddec346": {
      "model_module": "@jupyter-widgets/controls",
      "model_module_version": "1.5.0",
      "model_name": "DescriptionStyleModel",
      "state": {
       "description_width": ""
      }
     },
     "73a6187da55b4a919aef331d4521817d": {
      "model_module": "@jupyter-widgets/controls",
      "model_module_version": "1.5.0",
      "model_name": "DescriptionStyleModel",
      "state": {
       "description_width": ""
      }
     },
     "76bf0fa7850941c195703379b7c7da00": {
      "model_module": "@jupyter-widgets/controls",
      "model_module_version": "1.5.0",
      "model_name": "HTMLModel",
      "state": {
       "layout": "IPY_MODEL_00653bf9f594444790d536eb4033444f",
       "style": "IPY_MODEL_a85889860bbb40c18cf6f73cc0b99965",
       "value": "<p style='font-family: IBM Plex Sans, Arial, Helvetica, sans-serif; font-size: 20px; font-weight: medium;'>Circuit Properties</p>"
      }
     },
     "76dcdb54bed149f2bde013304f4fcea4": {
      "model_module": "@jupyter-widgets/controls",
      "model_module_version": "1.5.0",
      "model_name": "HTMLModel",
      "state": {
       "layout": "IPY_MODEL_de0f7323fd2f43b0a047c27a36788f5a",
       "style": "IPY_MODEL_cfd0a034a84341e7b0ff8b33f0928bc3",
       "value": "<h5>Status</h5>"
      }
     },
     "77794ad86768483b800e6638cdc8d6b7": {
      "model_module": "@jupyter-widgets/base",
      "model_module_version": "1.2.0",
      "model_name": "LayoutModel",
      "state": {
       "width": "145px"
      }
     },
     "78102ae3c31d476382c14634044e2e41": {
      "model_module": "@jupyter-widgets/base",
      "model_module_version": "1.2.0",
      "model_name": "LayoutModel",
      "state": {
       "grid_area": "right",
       "padding": "0px 0px 0px 0px",
       "width": "70px"
      }
     },
     "7bf6625f2ec64b318cb142e322e825b4": {
      "model_module": "@jupyter-widgets/controls",
      "model_module_version": "1.5.0",
      "model_name": "HTMLModel",
      "state": {
       "layout": "IPY_MODEL_9c7bfcb1a57740f4914d4463a7501d62",
       "style": "IPY_MODEL_73a6187da55b4a919aef331d4521817d",
       "value": "<h5>Job ID</h5>"
      }
     },
     "7d4a06a18a574c06bf36c5440014ed73": {
      "model_module": "@jupyter-widgets/controls",
      "model_module_version": "1.5.0",
      "model_name": "HTMLModel",
      "state": {
       "layout": "IPY_MODEL_632ab00b4290411c966f17fd3eb52c87",
       "style": "IPY_MODEL_0bfb002ee6b442ae9fe4b4e2e06d05b2",
       "value": "<h5>Message</h5>"
      }
     },
     "837252c1b27544efbb4cf95ed8b8ca11": {
      "model_module": "@jupyter-widgets/base",
      "model_module_version": "1.2.0",
      "model_name": "LayoutModel",
      "state": {
       "margin": "0px 0px 0px 37px",
       "width": "600px"
      }
     },
     "8c0a757b81bd4f48a7b644ed71668b12": {
      "model_module": "@jupyter-widgets/base",
      "model_module_version": "1.2.0",
      "model_name": "LayoutModel",
      "state": {
       "margin": "0px 0px 10px 0px"
      }
     },
     "8da31fb780534be3af02d4ebcb210a27": {
      "model_module": "@jupyter-widgets/controls",
      "model_module_version": "1.5.0",
      "model_name": "HTMLModel",
      "state": {
       "layout": "IPY_MODEL_e46b1eb108024ed4898eb79c95986dd8",
       "style": "IPY_MODEL_46bb339c108f4b84b46978f1ac1e1cfc",
       "value": "<h5>Backend</h5>"
      }
     },
     "8e5471e1181b4f50839b8661078d16c8": {
      "model_module": "@jupyter-widgets/controls",
      "model_module_version": "1.5.0",
      "model_name": "GridBoxModel",
      "state": {
       "children": [
        "IPY_MODEL_f449ab8e08ed4b2f9c269c16b4011a8a"
       ],
       "layout": "IPY_MODEL_972d6e6a65624a34a67f5d3e00093b34"
      }
     },
     "972d6e6a65624a34a67f5d3e00093b34": {
      "model_module": "@jupyter-widgets/base",
      "model_module_version": "1.2.0",
      "model_name": "LayoutModel",
      "state": {
       "grid_template_areas": "\n                                       \". . . . right \"\n                                        ",
       "grid_template_columns": "20% 20% 20% 20% 20%",
       "width": "100%"
      }
     },
     "9952ac3be5e44e2bb128e8bd79620c71": {
      "model_module": "@jupyter-widgets/controls",
      "model_module_version": "1.5.0",
      "model_name": "DescriptionStyleModel",
      "state": {
       "description_width": ""
      }
     },
     "9c7bfcb1a57740f4914d4463a7501d62": {
      "model_module": "@jupyter-widgets/base",
      "model_module_version": "1.2.0",
      "model_name": "LayoutModel",
      "state": {
       "width": "190px"
      }
     },
     "a85889860bbb40c18cf6f73cc0b99965": {
      "model_module": "@jupyter-widgets/controls",
      "model_module_version": "1.5.0",
      "model_name": "DescriptionStyleModel",
      "state": {
       "description_width": ""
      }
     },
     "a8b625efae7b4525b2f8bd037327222c": {
      "model_module": "@jupyter-widgets/controls",
      "model_module_version": "1.5.0",
      "model_name": "HTMLModel",
      "state": {
       "layout": "IPY_MODEL_1097896a848049469b401dd723dfa91f",
       "style": "IPY_MODEL_12c9740842a446bca6e3fd2ac5f41140",
       "value": "<h5>Queue</h5>"
      }
     },
     "c6ed43740fd441a28c2719e81e51d96b": {
      "model_module": "@jupyter-widgets/base",
      "model_module_version": "1.2.0",
      "model_name": "LayoutModel",
      "state": {
       "grid_template_areas": "\n                                       \". . . . right \"\n                                        ",
       "grid_template_columns": "20% 20% 20% 20% 20%",
       "width": "100%"
      }
     },
     "cd1897802161477c96622eb591f2ef33": {
      "model_module": "@jupyter-widgets/controls",
      "model_module_version": "1.5.0",
      "model_name": "ButtonModel",
      "state": {
       "button_style": "primary",
       "description": "Clear",
       "layout": "IPY_MODEL_78102ae3c31d476382c14634044e2e41",
       "style": "IPY_MODEL_0646436771c646f6ba26be6e09b29083"
      }
     },
     "cd7d535701f746e8ab81153956b40e79": {
      "model_module": "@jupyter-widgets/controls",
      "model_module_version": "1.5.0",
      "model_name": "DescriptionStyleModel",
      "state": {
       "description_width": ""
      }
     },
     "cfd0a034a84341e7b0ff8b33f0928bc3": {
      "model_module": "@jupyter-widgets/controls",
      "model_module_version": "1.5.0",
      "model_name": "DescriptionStyleModel",
      "state": {
       "description_width": ""
      }
     },
     "d57ffea9d78544a5a7c82e1cc3973c36": {
      "model_module": "@jupyter-widgets/controls",
      "model_module_version": "1.5.0",
      "model_name": "DescriptionStyleModel",
      "state": {
       "description_width": ""
      }
     },
     "d88858d93f674dd6bdff47d656b84f73": {
      "model_module": "@jupyter-widgets/controls",
      "model_module_version": "1.5.0",
      "model_name": "HBoxModel",
      "state": {
       "children": [
        "IPY_MODEL_7bf6625f2ec64b318cb142e322e825b4",
        "IPY_MODEL_8da31fb780534be3af02d4ebcb210a27",
        "IPY_MODEL_47d560de615648219ffc6431639e8e93",
        "IPY_MODEL_a8b625efae7b4525b2f8bd037327222c",
        "IPY_MODEL_7d4a06a18a574c06bf36c5440014ed73"
       ],
       "layout": "IPY_MODEL_0e5d94de6ca8469f80611b06426730bf"
      }
     },
     "de0f7323fd2f43b0a047c27a36788f5a": {
      "model_module": "@jupyter-widgets/base",
      "model_module_version": "1.2.0",
      "model_name": "LayoutModel",
      "state": {
       "width": "95px"
      }
     },
     "e46b1eb108024ed4898eb79c95986dd8": {
      "model_module": "@jupyter-widgets/base",
      "model_module_version": "1.2.0",
      "model_name": "LayoutModel",
      "state": {
       "width": "145px"
      }
     },
     "e4cb8d264e9c45918f2b947076d2321b": {
      "model_module": "@jupyter-widgets/controls",
      "model_module_version": "1.5.0",
      "model_name": "HTMLModel",
      "state": {
       "layout": "IPY_MODEL_18077421cbe0401d86acbb6edc0c799d",
       "style": "IPY_MODEL_7258ab5d6d8f41258e4c37421ddec346",
       "value": "<h5>Queue</h5>"
      }
     },
     "e529e93da2eb4773be6ef246c2722cbc": {
      "model_module": "@jupyter-widgets/controls",
      "model_module_version": "1.5.0",
      "model_name": "HTMLModel",
      "state": {
       "layout": "IPY_MODEL_ebcb1c3854ad430e93bb191d989738ce",
       "style": "IPY_MODEL_d57ffea9d78544a5a7c82e1cc3973c36",
       "value": "<h5>Job ID</h5>"
      }
     },
     "ebcb1c3854ad430e93bb191d989738ce": {
      "model_module": "@jupyter-widgets/base",
      "model_module_version": "1.2.0",
      "model_name": "LayoutModel",
      "state": {
       "width": "190px"
      }
     },
     "f449ab8e08ed4b2f9c269c16b4011a8a": {
      "model_module": "@jupyter-widgets/controls",
      "model_module_version": "1.5.0",
      "model_name": "ButtonModel",
      "state": {
       "button_style": "primary",
       "description": "Clear",
       "layout": "IPY_MODEL_f912af8b6d3541ed84b04c3d12c66934",
       "style": "IPY_MODEL_414ff468678f4214909a8262888e714e"
      }
     },
     "f912af8b6d3541ed84b04c3d12c66934": {
      "model_module": "@jupyter-widgets/base",
      "model_module_version": "1.2.0",
      "model_name": "LayoutModel",
      "state": {
       "grid_area": "right",
       "padding": "0px 0px 0px 0px",
       "width": "70px"
      }
     }
    },
    "version_major": 2,
    "version_minor": 0
   }
  }
 },
 "nbformat": 4,
 "nbformat_minor": 5
}
